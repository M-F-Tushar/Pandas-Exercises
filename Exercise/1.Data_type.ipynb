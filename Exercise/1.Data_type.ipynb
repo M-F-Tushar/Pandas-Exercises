{
 "cells": [
  {
   "cell_type": "code",
   "execution_count": 4,
   "id": "54a9f399-e994-4266-8f79-e85e6c925ab9",
   "metadata": {},
   "outputs": [],
   "source": [
    "import pandas as pd"
   ]
  },
  {
   "cell_type": "code",
   "execution_count": 6,
   "id": "05b30932-5922-4df4-b029-cdf78e2e0047",
   "metadata": {},
   "outputs": [],
   "source": [
    "# 2 main data type\n",
    "series = pd.Series([\"BMW\", \"Toyota\", \"Honda\"])"
   ]
  },
  {
   "cell_type": "code",
   "execution_count": 7,
   "id": "ebd0e867-76bf-4792-a168-a05ffb337da0",
   "metadata": {},
   "outputs": [
    {
     "data": {
      "text/plain": [
       "0       BMW\n",
       "1    Toyota\n",
       "2     Honda\n",
       "dtype: object"
      ]
     },
     "execution_count": 7,
     "metadata": {},
     "output_type": "execute_result"
    }
   ],
   "source": [
    "series"
   ]
  },
  {
   "cell_type": "code",
   "execution_count": 8,
   "id": "bff6822e-934e-429b-a870-f3ffbd304253",
   "metadata": {},
   "outputs": [],
   "source": [
    "# series = 1-dimentional"
   ]
  },
  {
   "cell_type": "code",
   "execution_count": 9,
   "id": "b624a8a4-02ef-4200-b92f-d574b7e5c6f6",
   "metadata": {},
   "outputs": [
    {
     "data": {
      "text/plain": [
       "0      Red\n",
       "1     Blue\n",
       "2    White\n",
       "dtype: object"
      ]
     },
     "execution_count": 9,
     "metadata": {},
     "output_type": "execute_result"
    }
   ],
   "source": [
    "colours = pd.Series([\"Red\",\"Blue\",\"White\"])\n",
    "colours"
   ]
  },
  {
   "cell_type": "code",
   "execution_count": 11,
   "id": "1781c342-81ef-45d1-9871-4509e308d0cc",
   "metadata": {},
   "outputs": [
    {
     "data": {
      "text/html": [
       "<div>\n",
       "<style scoped>\n",
       "    .dataframe tbody tr th:only-of-type {\n",
       "        vertical-align: middle;\n",
       "    }\n",
       "\n",
       "    .dataframe tbody tr th {\n",
       "        vertical-align: top;\n",
       "    }\n",
       "\n",
       "    .dataframe thead th {\n",
       "        text-align: right;\n",
       "    }\n",
       "</style>\n",
       "<table border=\"1\" class=\"dataframe\">\n",
       "  <thead>\n",
       "    <tr style=\"text-align: right;\">\n",
       "      <th></th>\n",
       "      <th>Car make</th>\n",
       "      <th>Colour</th>\n",
       "    </tr>\n",
       "  </thead>\n",
       "  <tbody>\n",
       "    <tr>\n",
       "      <th>0</th>\n",
       "      <td>BMW</td>\n",
       "      <td>Red</td>\n",
       "    </tr>\n",
       "    <tr>\n",
       "      <th>1</th>\n",
       "      <td>Toyota</td>\n",
       "      <td>Blue</td>\n",
       "    </tr>\n",
       "    <tr>\n",
       "      <th>2</th>\n",
       "      <td>Honda</td>\n",
       "      <td>White</td>\n",
       "    </tr>\n",
       "  </tbody>\n",
       "</table>\n",
       "</div>"
      ],
      "text/plain": [
       "  Car make Colour\n",
       "0      BMW    Red\n",
       "1   Toyota   Blue\n",
       "2    Honda  White"
      ]
     },
     "execution_count": 11,
     "metadata": {},
     "output_type": "execute_result"
    }
   ],
   "source": [
    "# DataFrame = 2-dimentional\n",
    "car_data = pd.DataFrame({\"Car make\" : series, \"Colour\" : colours})\n",
    "car_data"
   ]
  },
  {
   "cell_type": "markdown",
   "id": "2aaa9cb7-49d6-43ca-97d6-f72ab14a9088",
   "metadata": {},
   "source": [
    "# My Code here"
   ]
  },
  {
   "cell_type": "code",
   "execution_count": 12,
   "id": "e0db3e53-837a-4dcb-8573-b994b64cf9bb",
   "metadata": {},
   "outputs": [],
   "source": [
    "# series of food\n",
    "foods = pd.Series([\"Milk\",\"Egg\",\"Butter\"])"
   ]
  },
  {
   "cell_type": "code",
   "execution_count": 14,
   "id": "2ef432d8-bc60-4d9e-a308-4d573132d7d4",
   "metadata": {},
   "outputs": [],
   "source": [
    "# series of dollar values\n",
    "prices = pd.Series([5,6,7])"
   ]
  },
  {
   "cell_type": "code",
   "execution_count": 15,
   "id": "b4994b51-4441-4dec-b838-d00dc24a2e6c",
   "metadata": {},
   "outputs": [],
   "source": [
    "# Combinig series of food and dollar into DataFrame\n",
    "food_prices = pd.DataFrame({\"Foods\":foods, \"price\":prices})"
   ]
  },
  {
   "cell_type": "code",
   "execution_count": 16,
   "id": "220a6a7f-f2dd-4c9b-82ff-c8b3e7171fe5",
   "metadata": {},
   "outputs": [
    {
     "data": {
      "text/html": [
       "<div>\n",
       "<style scoped>\n",
       "    .dataframe tbody tr th:only-of-type {\n",
       "        vertical-align: middle;\n",
       "    }\n",
       "\n",
       "    .dataframe tbody tr th {\n",
       "        vertical-align: top;\n",
       "    }\n",
       "\n",
       "    .dataframe thead th {\n",
       "        text-align: right;\n",
       "    }\n",
       "</style>\n",
       "<table border=\"1\" class=\"dataframe\">\n",
       "  <thead>\n",
       "    <tr style=\"text-align: right;\">\n",
       "      <th></th>\n",
       "      <th>Foods</th>\n",
       "      <th>price</th>\n",
       "    </tr>\n",
       "  </thead>\n",
       "  <tbody>\n",
       "    <tr>\n",
       "      <th>0</th>\n",
       "      <td>Milk</td>\n",
       "      <td>5</td>\n",
       "    </tr>\n",
       "    <tr>\n",
       "      <th>1</th>\n",
       "      <td>Egg</td>\n",
       "      <td>6</td>\n",
       "    </tr>\n",
       "    <tr>\n",
       "      <th>2</th>\n",
       "      <td>Butter</td>\n",
       "      <td>7</td>\n",
       "    </tr>\n",
       "  </tbody>\n",
       "</table>\n",
       "</div>"
      ],
      "text/plain": [
       "    Foods  price\n",
       "0    Milk      5\n",
       "1     Egg      6\n",
       "2  Butter      7"
      ]
     },
     "execution_count": 16,
     "metadata": {},
     "output_type": "execute_result"
    }
   ],
   "source": [
    "# Showing Outpur\n",
    "food_prices"
   ]
  },
  {
   "cell_type": "code",
   "execution_count": null,
   "id": "a52531cc-c524-4096-bb6a-c3b09f2be095",
   "metadata": {},
   "outputs": [],
   "source": []
  }
 ],
 "metadata": {
  "kernelspec": {
   "display_name": "Python 3 (ipykernel)",
   "language": "python",
   "name": "python3"
  },
  "language_info": {
   "codemirror_mode": {
    "name": "ipython",
    "version": 3
   },
   "file_extension": ".py",
   "mimetype": "text/x-python",
   "name": "python",
   "nbconvert_exporter": "python",
   "pygments_lexer": "ipython3",
   "version": "3.13.2"
  }
 },
 "nbformat": 4,
 "nbformat_minor": 5
}
